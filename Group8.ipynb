{
 "cells": [
  {
   "cell_type": "code",
   "execution_count": 23,
   "id": "f57b8911",
   "metadata": {},
   "outputs": [],
   "source": [
    "from pyspark.sql import SparkSession\n",
    "spark_session = SparkSession.builder\\\n",
    " .master(\"spark://192.168.2.80:7077\") \\\n",
    " .appName(\"Viktor\")\\\n",
    " .config(\"spark.dynamicAllocation.enabled\", True)\\\n",
    " .config(\"spark.dynamicAllocation.shuffleTracking.enabled\",True)\\\n",
    " .config(\"spark.shuffle.service.enabled\", False)\\\n",
    " .config(\"spark.dynamicAllocation.executorIdleTimeout\",\"30s\")\\\n",
    " .config(\"spark.cores.max\", 2)\\\n",
    " .getOrCreate()\n",
    "\n",
    "spark_context = spark_session.sparkContext\n"
   ]
  },
  {
   "cell_type": "code",
   "execution_count": 26,
   "id": "3efce150",
   "metadata": {},
   "outputs": [
    {
     "name": "stderr",
     "output_type": "stream",
     "text": [
      "                                                                                \r"
     ]
    }
   ],
   "source": [
    "#Import CSV file containing all songs and features.\n",
    "df=spark_session.read.load(\"hdfs://192.168.2.80:9000/data/SongCSV.csv\",format=\"csv\", sep=\",\", inferSchema=\"true\", header=\"true\")\n"
   ]
  },
  {
   "cell_type": "code",
   "execution_count": 27,
   "id": "c859c9d1",
   "metadata": {},
   "outputs": [
    {
     "name": "stdout",
     "output_type": "stream",
     "text": [
      "root\n",
      " |-- SongNumber: integer (nullable = true)\n",
      " |-- SongID: string (nullable = true)\n",
      " |-- AlbumID: integer (nullable = true)\n",
      " |-- AlbumName: string (nullable = true)\n",
      " |-- ArtistID: string (nullable = true)\n",
      " |-- ArtistLatitude: double (nullable = true)\n",
      " |-- ArtistLocation: string (nullable = true)\n",
      " |-- ArtistLongitude: double (nullable = true)\n",
      " |-- ArtistName: string (nullable = true)\n",
      " |-- Danceability: double (nullable = true)\n",
      " |-- Duration: double (nullable = true)\n",
      " |-- KeySignature: integer (nullable = true)\n",
      " |-- KeySignatureConfidence: double (nullable = true)\n",
      " |-- Tempo: double (nullable = true)\n",
      " |-- TimeSignature: integer (nullable = true)\n",
      " |-- TimeSignatureConfidence: double (nullable = true)\n",
      " |-- Title: string (nullable = true)\n",
      " |-- Year: integer (nullable = true)\n",
      "\n"
     ]
    }
   ],
   "source": [
    "df.printSchema()"
   ]
  },
  {
   "cell_type": "code",
   "execution_count": 40,
   "id": "b498a18e",
   "metadata": {},
   "outputs": [
    {
     "name": "stdout",
     "output_type": "stream",
     "text": [
      "Amount of songs longer than 300 sec: 1794\n"
     ]
    }
   ],
   "source": [
    "#Find out the amount of songs longer then 300 seconds.\n",
    "df_1 = df.withColumn('Duration', df['Duration'].cast(\"float\"))\n",
    "df_1 = df_1.filter(df['Duration'] >= 300)\n",
    "print(\"Amount of songs longer than 300 sec: \"+str(df_1.count()))"
   ]
  },
  {
   "cell_type": "code",
   "execution_count": 39,
   "id": "beda7af7",
   "metadata": {},
   "outputs": [
    {
     "name": "stderr",
     "output_type": "stream",
     "text": [
      "[Stage 20:>                                                         (0 + 1) / 1]\r"
     ]
    },
    {
     "name": "stdout",
     "output_type": "stream",
     "text": [
      "+--------------------+-----+\n",
      "|          ArtistName|count|\n",
      "+--------------------+-----+\n",
      "|    Mario Rosenstock|   13|\n",
      "|        Phil Collins|   12|\n",
      "|The Jackson South...|   12|\n",
      "|        Sugar Minott|   12|\n",
      "|           Aerosmith|   12|\n",
      "|         Mikey Dread|   11|\n",
      "|Nick Cave & The B...|   11|\n",
      "|         Snow Patrol|   11|\n",
      "|Bill & Gloria Gai...|   11|\n",
      "|         Line Renaud|   11|\n",
      "|           Radiohead|   11|\n",
      "|Red Hot Chili Pep...|   10|\n",
      "|                 Ayo|   10|\n",
      "|         White Heart|   10|\n",
      "|              Selena|   10|\n",
      "|       Jacques Douai|   10|\n",
      "|     Pumpkin Buzzard|   10|\n",
      "|Stevie Ray Vaugha...|   10|\n",
      "|             Shakira|   10|\n",
      "|The Del McCoury Band|   10|\n",
      "+--------------------+-----+\n",
      "only showing top 20 rows\n",
      "\n"
     ]
    },
    {
     "name": "stderr",
     "output_type": "stream",
     "text": [
      "\r",
      "                                                                                \r"
     ]
    }
   ],
   "source": [
    "df.groupBy(\"ArtistName\").count().orderBy('count', ascending=False).show()"
   ]
  },
  {
   "cell_type": "code",
   "execution_count": 52,
   "id": "a0d1c2ff",
   "metadata": {},
   "outputs": [
    {
     "name": "stderr",
     "output_type": "stream",
     "text": [
      "[Stage 33:>                                                         (0 + 1) / 1]\r"
     ]
    },
    {
     "name": "stdout",
     "output_type": "stream",
     "text": [
      "+--------------------+-----------------+\n",
      "|          ArtistName|     avg_duration|\n",
      "+--------------------+-----------------+\n",
      "|   Ministry of Sound|        1686.7522|\n",
      "|        Morton Gould|       1610.00444|\n",
      "|     Kartik Seshadri|       1519.28118|\n",
      "|   Frederic Galliano|       1394.75546|\n",
      "|The Revolutionary...|       1253.92934|\n",
      "|        Small Facers|       1141.08036|\n",
      "|Naseebo Lal_ Arif...|       1037.68771|\n",
      "|Arthur Fiedler;Ea...|        976.56118|\n",
      "|Mickey And The St...|        914.02404|\n",
      "|G\\xc3\\xb6teborgs ...|        904.80281|\n",
      "|      Henri Pousseur|884.5735860000001|\n",
      "|Saarbr\\xc3\\xbccke...|        827.66322|\n",
      "|     Kurt Tepperwein|        819.87873|\n",
      "|       Guitar Shorty|        817.37098|\n",
      "|          Groundhogs|       812.590565|\n",
      "|Wyclef Jean featu...|        809.58649|\n",
      "|The Dreamtree Pro...|         798.1971|\n",
      "|       Faiz Ali Faiz|785.9021333333334|\n",
      "|Herbert von Karaj...|        770.35057|\n",
      "| David Mingyue Liang|        757.99465|\n",
      "+--------------------+-----------------+\n",
      "only showing top 20 rows\n",
      "\n"
     ]
    },
    {
     "name": "stderr",
     "output_type": "stream",
     "text": [
      "\r",
      "[Stage 35:>                                                         (0 + 1) / 1]\r",
      "\r",
      "                                                                                \r"
     ]
    }
   ],
   "source": [
    "from pyspark.sql.functions import avg\n",
    "grouped_df=df.groupBy(\"ArtistName\")\n",
    "avg_duration_df = grouped_df.agg(avg(\"Duration\").alias(\"avg_duration\"))\n",
    "avg_duration_df.orderBy(\"avg_duration\", ascending=False).show()"
   ]
  },
  {
   "cell_type": "code",
   "execution_count": 22,
   "id": "965421ca",
   "metadata": {},
   "outputs": [],
   "source": [
    "spark_session.stop()"
   ]
  },
  {
   "cell_type": "code",
   "execution_count": null,
   "id": "0c11b6d7",
   "metadata": {},
   "outputs": [],
   "source": []
  }
 ],
 "metadata": {
  "kernelspec": {
   "display_name": "Python 3 (ipykernel)",
   "language": "python",
   "name": "python3"
  },
  "language_info": {
   "codemirror_mode": {
    "name": "ipython",
    "version": 3
   },
   "file_extension": ".py",
   "mimetype": "text/x-python",
   "name": "python",
   "nbconvert_exporter": "python",
   "pygments_lexer": "ipython3",
   "version": "3.10.6"
  }
 },
 "nbformat": 4,
 "nbformat_minor": 5
}
