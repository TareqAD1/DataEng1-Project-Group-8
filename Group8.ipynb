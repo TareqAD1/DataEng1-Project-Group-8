{
 "cells": [
  {
   "cell_type": "code",
   "execution_count": 1,
   "id": "f57b8911",
   "metadata": {},
   "outputs": [
    {
     "name": "stderr",
     "output_type": "stream",
     "text": [
      "Setting default log level to \"WARN\".\n",
      "To adjust logging level use sc.setLogLevel(newLevel). For SparkR, use setLogLevel(newLevel).\n"
     ]
    },
    {
     "name": "stdout",
     "output_type": "stream",
     "text": [
      "23/03/13 15:09:23 WARN NativeCodeLoader: Unable to load native-hadoop library for your platform... using builtin-java classes where applicable\n"
     ]
    }
   ],
   "source": [
    "from pyspark.sql import SparkSession\n",
    "spark_session = SparkSession.builder\\\n",
    " .master(\"spark://192.168.2.80:7077\") \\\n",
    " .appName(\"Viktor\")\\\n",
    " .config(\"spark.dynamicAllocation.enabled\", True)\\\n",
    " .config(\"spark.dynamicAllocation.shuffleTracking.enabled\",True)\\\n",
    " .config(\"spark.shuffle.service.enabled\", False)\\\n",
    " .config(\"spark.dynamicAllocation.executorIdleTimeout\",\"30s\")\\\n",
    " .config(\"spark.cores.max\", 4)\\\n",
    " .getOrCreate()\n",
    "\n",
    "spark_context = spark_session.sparkContext\n"
   ]
  },
  {
   "cell_type": "code",
   "execution_count": 2,
   "id": "3efce150",
   "metadata": {},
   "outputs": [
    {
     "name": "stderr",
     "output_type": "stream",
     "text": [
      "                                                                                \r"
     ]
    }
   ],
   "source": [
    "#Import CSV file containing all songs and features.\n",
    "df=spark_session.read.load(\"hdfs://192.168.2.80:9000/data/SongCSV.csv\",format=\"csv\", sep=\",\", inferSchema=\"true\", header=\"true\")\n"
   ]
  },
  {
   "cell_type": "code",
   "execution_count": 3,
   "id": "c859c9d1",
   "metadata": {},
   "outputs": [
    {
     "name": "stdout",
     "output_type": "stream",
     "text": [
      "root\n",
      " |-- SongNumber: integer (nullable = true)\n",
      " |-- SongID: string (nullable = true)\n",
      " |-- AlbumID: integer (nullable = true)\n",
      " |-- AlbumName: string (nullable = true)\n",
      " |-- ArtistID: string (nullable = true)\n",
      " |-- ArtistLatitude: double (nullable = true)\n",
      " |-- ArtistLocation: string (nullable = true)\n",
      " |-- ArtistLongitude: double (nullable = true)\n",
      " |-- ArtistName: string (nullable = true)\n",
      " |-- Danceability: double (nullable = true)\n",
      " |-- Duration: double (nullable = true)\n",
      " |-- KeySignature: integer (nullable = true)\n",
      " |-- KeySignatureConfidence: double (nullable = true)\n",
      " |-- Tempo: double (nullable = true)\n",
      " |-- TimeSignature: integer (nullable = true)\n",
      " |-- TimeSignatureConfidence: double (nullable = true)\n",
      " |-- Title: string (nullable = true)\n",
      " |-- Year: integer (nullable = true)\n",
      "\n"
     ]
    }
   ],
   "source": [
    "import time\n",
    "\n",
    "start_time = time.time()\n",
    "\n",
    "df.printSchema()"
   ]
  },
  {
   "cell_type": "code",
   "execution_count": 4,
   "id": "b498a18e",
   "metadata": {},
   "outputs": [
    {
     "name": "stderr",
     "output_type": "stream",
     "text": [
      "\r",
      "[Stage 2:>                                                          (0 + 1) / 1]\r"
     ]
    },
    {
     "name": "stdout",
     "output_type": "stream",
     "text": [
      "Amount of songs longer than 300 sec: 1794\n"
     ]
    },
    {
     "name": "stderr",
     "output_type": "stream",
     "text": [
      "\r",
      "                                                                                \r"
     ]
    }
   ],
   "source": [
    "\n",
    "\n",
    "#Find out the amount of songs longer then 300 seconds.\n",
    "df_1 = df.withColumn('Duration', df['Duration'].cast(\"float\"))\n",
    "df_1 = df_1.filter(df['Duration'] >= 300)\n",
    "print(\"Amount of songs longer than 300 sec: \"+str(df_1.count()))\n",
    "\n",
    "\n",
    "\n"
   ]
  },
  {
   "cell_type": "code",
   "execution_count": 5,
   "id": "beda7af7",
   "metadata": {},
   "outputs": [
    {
     "name": "stderr",
     "output_type": "stream",
     "text": [
      "\r",
      "[Stage 5:>                                                          (0 + 1) / 1]\r"
     ]
    },
    {
     "name": "stdout",
     "output_type": "stream",
     "text": [
      "+--------------------+-----+\n",
      "|          ArtistName|count|\n",
      "+--------------------+-----+\n",
      "|    Mario Rosenstock|   13|\n",
      "|        Phil Collins|   12|\n",
      "|The Jackson South...|   12|\n",
      "|        Sugar Minott|   12|\n",
      "|           Aerosmith|   12|\n",
      "|         Mikey Dread|   11|\n",
      "|Nick Cave & The B...|   11|\n",
      "|         Snow Patrol|   11|\n",
      "|Bill & Gloria Gai...|   11|\n",
      "|         Line Renaud|   11|\n",
      "|           Radiohead|   11|\n",
      "|Red Hot Chili Pep...|   10|\n",
      "|                 Ayo|   10|\n",
      "|         White Heart|   10|\n",
      "|              Selena|   10|\n",
      "|       Jacques Douai|   10|\n",
      "|     Pumpkin Buzzard|   10|\n",
      "|Stevie Ray Vaugha...|   10|\n",
      "|             Shakira|   10|\n",
      "|The Del McCoury Band|   10|\n",
      "+--------------------+-----+\n",
      "only showing top 20 rows\n",
      "\n"
     ]
    },
    {
     "name": "stderr",
     "output_type": "stream",
     "text": [
      "\r",
      "                                                                                \r"
     ]
    }
   ],
   "source": [
    "# import time\n",
    "\n",
    "# start_time = time.time()\n",
    "\n",
    "\n",
    "df.groupBy(\"ArtistName\").count().orderBy('count', ascending=False).show()\n",
    "\n",
    "# end_time = time.time()\n",
    "# elapsed_time = end_time - start_time\n",
    "# print(f\"Elapsed time: {elapsed_time:.2f} seconds\")\n"
   ]
  },
  {
   "cell_type": "code",
   "execution_count": 6,
   "id": "a0d1c2ff",
   "metadata": {},
   "outputs": [
    {
     "name": "stderr",
     "output_type": "stream",
     "text": [
      "[Stage 10:>                                                         (0 + 1) / 1]\r"
     ]
    },
    {
     "name": "stdout",
     "output_type": "stream",
     "text": [
      "+--------------------+-----------------+\n",
      "|          ArtistName|     avg_duration|\n",
      "+--------------------+-----------------+\n",
      "|   Ministry of Sound|        1686.7522|\n",
      "|        Morton Gould|       1610.00444|\n",
      "|     Kartik Seshadri|       1519.28118|\n",
      "|   Frederic Galliano|       1394.75546|\n",
      "|The Revolutionary...|       1253.92934|\n",
      "|        Small Facers|       1141.08036|\n",
      "|Naseebo Lal_ Arif...|       1037.68771|\n",
      "|Arthur Fiedler;Ea...|        976.56118|\n",
      "|Mickey And The St...|        914.02404|\n",
      "|G\\xc3\\xb6teborgs ...|        904.80281|\n",
      "|      Henri Pousseur|884.5735860000001|\n",
      "|Saarbr\\xc3\\xbccke...|        827.66322|\n",
      "|     Kurt Tepperwein|        819.87873|\n",
      "|       Guitar Shorty|        817.37098|\n",
      "|          Groundhogs|       812.590565|\n",
      "|Wyclef Jean featu...|        809.58649|\n",
      "|The Dreamtree Pro...|         798.1971|\n",
      "|       Faiz Ali Faiz|785.9021333333334|\n",
      "|Herbert von Karaj...|        770.35057|\n",
      "| David Mingyue Liang|        757.99465|\n",
      "+--------------------+-----------------+\n",
      "only showing top 20 rows\n",
      "\n"
     ]
    },
    {
     "name": "stderr",
     "output_type": "stream",
     "text": [
      "\r",
      "                                                                                \r"
     ]
    }
   ],
   "source": [
    "# import time\n",
    "\n",
    "# start_time = time.time()\n",
    "\n",
    "from pyspark.sql.functions import avg\n",
    "grouped_df=df.groupBy(\"ArtistName\")\n",
    "avg_duration_df = grouped_df.agg(avg(\"Duration\").alias(\"avg_duration\"))\n",
    "avg_duration_df.orderBy(\"avg_duration\", ascending=False).show()\n",
    "\n",
    "# end_time = time.time()\n",
    "# elapsed_time = end_time - start_time\n",
    "# print(f\"Elapsed time: {elapsed_time:.2f} seconds\")"
   ]
  },
  {
   "cell_type": "code",
   "execution_count": 7,
   "id": "449ceefe",
   "metadata": {},
   "outputs": [
    {
     "name": "stderr",
     "output_type": "stream",
     "text": [
      "\r",
      "[Stage 11:>                                                         (0 + 1) / 1]\r"
     ]
    },
    {
     "name": "stdout",
     "output_type": "stream",
     "text": [
      "23/03/13 15:10:22 ERROR TaskSchedulerImpl: Lost executor 0 on 192.168.2.132: Remote RPC client disassociated. Likely due to containers exceeding thresholds, or network issues. Check driver logs for WARN messages.\n",
      "23/03/13 15:10:22 WARN TaskSetManager: Lost task 0.0 in stage 11.0 (TID 8) (192.168.2.132 executor 0): ExecutorLostFailure (executor 0 exited caused by one of the running tasks) Reason: Remote RPC client disassociated. Likely due to containers exceeding thresholds, or network issues. Check driver logs for WARN messages.\n"
     ]
    },
    {
     "name": "stderr",
     "output_type": "stream",
     "text": [
      "[Stage 11:>                                                         (0 + 1) / 1]\r"
     ]
    },
    {
     "name": "stdout",
     "output_type": "stream",
     "text": [
      "+----+-----+\n",
      "|year|count|\n",
      "+----+-----+\n",
      "|2006|  320|\n",
      "|2005|  304|\n",
      "|2007|  285|\n",
      "|2004|  270|\n",
      "|2003|  254|\n",
      "|2008|  253|\n",
      "|2009|  250|\n",
      "|2001|  217|\n",
      "|2002|  198|\n",
      "|2000|  192|\n",
      "|1999|  178|\n",
      "|1998|  151|\n",
      "|1995|  135|\n",
      "|1997|  130|\n",
      "|1993|  126|\n",
      "|1994|  115|\n",
      "|1996|  109|\n",
      "|1992|   98|\n",
      "|1991|   91|\n",
      "|1990|   72|\n",
      "+----+-----+\n",
      "only showing top 20 rows\n",
      "\n",
      "Elapsed time: 43.71 seconds\n"
     ]
    },
    {
     "name": "stderr",
     "output_type": "stream",
     "text": [
      "\r",
      "                                                                                \r"
     ]
    }
   ],
   "source": [
    "# import time\n",
    "\n",
    "# start_time = time.time()\n",
    "\n",
    "task_year_df = df[df['year'] != 0]\n",
    "task_year_df.groupBy(\"year\").count().orderBy('count', ascending=False).show()\n",
    "\n",
    "end_time = time.time()\n",
    "elapsed_time = end_time - start_time\n",
    "print(f\"Elapsed time: {elapsed_time:.2f} seconds\")\n"
   ]
  },
  {
   "cell_type": "code",
   "execution_count": 8,
   "id": "2f9255a8",
   "metadata": {},
   "outputs": [],
   "source": [
    "# print(pd.__version__)"
   ]
  },
  {
   "cell_type": "code",
   "execution_count": null,
   "id": "57bdfc82",
   "metadata": {},
   "outputs": [],
   "source": [
    "from pyspark.sql.functions import lower, trim, regexp_replace\n",
    "\n",
    "def print_details(rows_artist):\n",
    "    for row in rows_artist.collect():\n",
    "        print(f\"song name: {row['Title']}\")\n",
    "        print(f\"Album name: {row['AlbumName']}\")\n",
    "        print(f\"Year of release: {row['Year']}\")\n",
    "        print(\"\\n\")\n",
    "    \n",
    "\n",
    "def want_continue():\n",
    "    loop = True\n",
    "    while True:\n",
    "        ans = input(\"Want to continue looking up artist? (y/n)\").lower()\n",
    "        if ans == \"y\":\n",
    "            return True\n",
    "        elif ans == \"n\":\n",
    "            loop = False\n",
    "            return False\n",
    "     \n",
    "def artist(df):\n",
    "    # preprocess lowercase \n",
    "    df = df.withColumn(\"ArtistName\", lower(df[\"ArtistName\"]))\n",
    "    df = df.withColumn(\"ArtistName\", regexp_replace(df[\"ArtistName\"], \" \", \"\"))\n",
    "    select_artist = True\n",
    "\n",
    "    while select_artist:\n",
    "        user_input = input(\"Please enter the name of an artist: \").replace(\" \", \"\").lower()\n",
    "\n",
    "        # If artist exists\n",
    "        if df.filter(df[\"ArtistName\"] == user_input).count() > 0:\n",
    "            rows_artist = df.filter(df[\"ArtistName\"] == user_input)\n",
    "            print_details(rows_artist)\n",
    "            select_artist = want_continue()\n",
    "            print(\"*****************\")\n",
    "        # if not\n",
    "        else:\n",
    "            print(\"Bad input try again\")\n",
    "  \n",
    "artist(df)"
   ]
  },
  {
   "cell_type": "code",
   "execution_count": null,
   "id": "965421ca",
   "metadata": {},
   "outputs": [],
   "source": [
    "spark_session.stop()"
   ]
  },
  {
   "cell_type": "code",
   "execution_count": null,
   "id": "0c11b6d7",
   "metadata": {},
   "outputs": [],
   "source": []
  }
 ],
 "metadata": {
  "kernelspec": {
   "display_name": "Python 3 (ipykernel)",
   "language": "python",
   "name": "python3"
  },
  "language_info": {
   "codemirror_mode": {
    "name": "ipython",
    "version": 3
   },
   "file_extension": ".py",
   "mimetype": "text/x-python",
   "name": "python",
   "nbconvert_exporter": "python",
   "pygments_lexer": "ipython3",
   "version": "3.10.6"
  }
 },
 "nbformat": 4,
 "nbformat_minor": 5
}
